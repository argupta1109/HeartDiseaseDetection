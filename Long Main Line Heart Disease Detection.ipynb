{
 "cells": [
  {
   "cell_type": "code",
   "execution_count": null,
   "id": "ad6cc4e6",
   "metadata": {},
   "outputs": [],
   "source": [
    "import numpy as np\n",
    "import pandas as pd #Data into Structure\n",
    "from sklearn.model_selection import train_test_split #For Spliting the data into Train and Test\n",
    "from sklearn.linear_model import LogisticRegression #Basic Ml used in this\n",
    "from sklearn.metrics import accuracy_score #Accuracy and Performance of the System\n",
    "df =pd.read_csv('heart.csv')\n",
    "x=df.drop(columns='target',axis=1)\n",
    "y=df['target']\n",
    "x_train, x_test, y_train, y_test = train_test_split(x,y,test_size=0.2, stratify=y,random_state=23)\n",
    "model = LogisticRegression(max_iter=1000)\n",
    "model.fit(x_train, y_train)\n",
    "y_pred = model.predict(x_test)\n",
    "score = accuracy_score(y_test,y_pred)\n",
    "input_data = (62,0,0,140,268,0,0,160,0,3.6,0,2,2)\n",
    "arr = np.array(input_data)\n",
    "prediction = model.predict(arr.reshape(1,-1))\n",
    "if prediction==0 :\n",
    "    print(\"You are Healthy\")\n",
    "else :\n",
    "    print(\"Consult your doctor\")"
   ]
  }
 ],
 "metadata": {
  "kernelspec": {
   "display_name": "Python 3 (ipykernel)",
   "language": "python",
   "name": "python3"
  },
  "language_info": {
   "codemirror_mode": {
    "name": "ipython",
    "version": 3
   },
   "file_extension": ".py",
   "mimetype": "text/x-python",
   "name": "python",
   "nbconvert_exporter": "python",
   "pygments_lexer": "ipython3",
   "version": "3.11.5"
  }
 },
 "nbformat": 4,
 "nbformat_minor": 5
}
